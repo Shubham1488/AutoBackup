{
 "cells": [
  {
   "cell_type": "code",
   "execution_count": 1,
   "id": "3af03b80",
   "metadata": {},
   "outputs": [],
   "source": [
    "from pydrive.drive import GoogleDrive\n",
    "from pydrive.auth import GoogleAuth\n",
    "import datetime\n",
    "import os\n",
    "import os.path\n",
    "import time\n",
    "import datetime\n",
    "from dateutil import tz\n",
    "from os import path\n",
    "import logging"
   ]
  },
  {
   "cell_type": "code",
   "execution_count": 2,
   "id": "b3036a57",
   "metadata": {},
   "outputs": [],
   "source": [
    "from_zone = tz.tzutc()\n",
    "to_zone = tz.tzlocal()"
   ]
  },
  {
   "cell_type": "code",
   "execution_count": 3,
   "id": "f867d39c",
   "metadata": {},
   "outputs": [],
   "source": [
    "gauth = GoogleAuth()"
   ]
  },
  {
   "cell_type": "code",
   "execution_count": 4,
   "id": "56726f7f",
   "metadata": {},
   "outputs": [],
   "source": [
    "gauth.LoadCredentialsFile(\"mycreds.txt\")\n",
    "if gauth.credentials is None:\n",
    "    # Authenticate if they're not there\n",
    "    gauth.LocalWebserverAuth()\n",
    "elif gauth.access_token_expired:\n",
    "    # Refresh them if expired\n",
    "    gauth.Refresh()\n",
    "else:\n",
    "    # Initialize the saved creds\n",
    "    gauth.Authorize()\n",
    "# Save the current credentials to a file\n",
    "gauth.SaveCredentialsFile(\"mycreds.txt\")"
   ]
  },
  {
   "cell_type": "code",
   "execution_count": 5,
   "id": "fa71576f",
   "metadata": {},
   "outputs": [],
   "source": [
    "logging.basicConfig(filename='error.log', format='%(asctime)s :: %(message)s' , datefmt='%m/%d/%Y %I:%M:%S %p', level=logging.INFO)"
   ]
  },
  {
   "cell_type": "code",
   "execution_count": 6,
   "id": "03e0741b",
   "metadata": {},
   "outputs": [],
   "source": [
    "drive = GoogleDrive(gauth)"
   ]
  },
  {
   "cell_type": "code",
   "execution_count": null,
   "id": "9f501142",
   "metadata": {},
   "outputs": [],
   "source": []
  },
  {
   "cell_type": "code",
   "execution_count": 184,
   "id": "cf1582b3",
   "metadata": {},
   "outputs": [],
   "source": [
    "# fileMetaData = []\n",
    "# fileName = []"
   ]
  },
  {
   "cell_type": "code",
   "execution_count": 185,
   "id": "8438eb1d",
   "metadata": {},
   "outputs": [],
   "source": [
    "# fileDrive = drive.ListFile({'q': \"'root' in parents and trashed=false\"}).GetList()"
   ]
  },
  {
   "cell_type": "code",
   "execution_count": 186,
   "id": "d57b8905",
   "metadata": {},
   "outputs": [],
   "source": [
    "# folderId = ''\n",
    "# for f in fileDrive:\n",
    "#     if f['title'] == 'Sync Folder':\n",
    "#         print(f['id'])\n",
    "#         folderId = f['id']"
   ]
  },
  {
   "cell_type": "code",
   "execution_count": 187,
   "id": "3f874f6c",
   "metadata": {},
   "outputs": [],
   "source": [
    "# request_template = \"'{x}' in parents and trashed=false\"\n",
    "# file_list = drive.ListFile({'q': request_template.format(x = folderId)}).GetList()"
   ]
  },
  {
   "cell_type": "code",
   "execution_count": 188,
   "id": "f5b61784",
   "metadata": {},
   "outputs": [],
   "source": [
    "# for file in file_list:\n",
    "#     fileMetaData.append([file['title'], file['modifiedDate'], file['id'], file['mimeType']])"
   ]
  },
  {
   "cell_type": "code",
   "execution_count": 189,
   "id": "1a5d90b7",
   "metadata": {},
   "outputs": [],
   "source": [
    "# fileMetaData"
   ]
  },
  {
   "cell_type": "code",
   "execution_count": 190,
   "id": "4f5e58c0",
   "metadata": {},
   "outputs": [],
   "source": [
    "# for i in fileMetaData:\n",
    "#     fileName.append(i[0])"
   ]
  },
  {
   "cell_type": "code",
   "execution_count": 191,
   "id": "1ae589a1",
   "metadata": {},
   "outputs": [],
   "source": [
    "# fileName"
   ]
  },
  {
   "cell_type": "code",
   "execution_count": 7,
   "id": "ea6d8fb2",
   "metadata": {},
   "outputs": [],
   "source": [
    "def fileUpdate(dest,fileName, file_list):\n",
    "    for file in file_list:\n",
    "#         print(file)\n",
    "        if file[0] == fileName:\n",
    "            new_file = drive.CreateFile({'title': file[0], 'id': file[2]})\n",
    "            file_content = new_file.GetContentString()\n",
    "            localFile = open(os.path.join(dest, fileName),'r')\n",
    "            file_content = localFile.read()\n",
    "            new_file.SetContentString(file_content)\n",
    "            new_file.Upload()\n",
    "            \n",
    "            logFile = open(\"history.txt\", \"a\")\n",
    "            time = datetime.datetime.now()\n",
    "            string = \"{}  - Backup Successfull {}\\n\".format(time, dest)\n",
    "            logFile.write(string)\n",
    "            logFile.close()\n",
    "\n",
    "            logging.info('File Name - {} - updated on Drive.'.format(file[0]))\n",
    "    print(\"File Updated on Drive\")"
   ]
  },
  {
   "cell_type": "code",
   "execution_count": 8,
   "id": "49a19f6f",
   "metadata": {},
   "outputs": [],
   "source": [
    "def fileUpload(dest,fileName, foldId):\n",
    "    f = drive.CreateFile({'parents': [{'id': foldId}], 'title': fileName})\n",
    "    f.SetContentFile(os.path.join(dest, fileName))\n",
    "    f.Upload()\n",
    "    \n",
    "    print(\"Updating Log File\")\n",
    "    logFile = open(\"history.txt\", \"a\")\n",
    "    time = datetime.datetime.now()\n",
    "    string = \"{}  - Backup Successfull {}\\n\".format(date, time, dest)\n",
    "    logFile.write(string)\n",
    "    logFile.close()\n",
    "    \n",
    "    logging.info('File Name - {} - uploaded on Drive.'.format(fileName))\n",
    "    print(\"New File Uploaded on Drive\")\n",
    "    f = None"
   ]
  },
  {
   "cell_type": "code",
   "execution_count": 9,
   "id": "4f238d47",
   "metadata": {},
   "outputs": [],
   "source": [
    "def toUploadFile(dest, LocalFile, fileName, fileMetaData, foldId):\n",
    "#     print(\"To Upload inside ------- \", dest)\n",
    "    if LocalFile not in fileName:\n",
    "        print(LocalFile)\n",
    "        print(\"File Not present on drive - Uploading\")\n",
    "        fileUpload(dest, LocalFile, foldId)\n",
    "    else:\n",
    "        print(LocalFile)\n",
    "        print(\"File already present on drive - Checking Modifications\")\n",
    "\n",
    "        local = time.ctime(os.path.getmtime(os.path.join(dest, LocalFile)))\n",
    "        localModified = datetime.datetime.strptime(local, \"%a %b %d %H:%M:%S %Y\")\n",
    "        print(\"Last modified on Local: %s\" % localModified)\n",
    "        localModified = os.path.getmtime(os.path.join(dest, LocalFile))\n",
    "        #print(\"Last modified on Local: %s\" % localModified)\n",
    "\n",
    "        cloud = fileMetaData[fileName.index(LocalFile)][1]\n",
    "        cloud = cloud[:-5]\n",
    "        driveModified = datetime.datetime.strptime(cloud, \"%Y-%m-%dT%H:%M:%S\")\n",
    "\n",
    "        onlineTime = driveModified.replace(tzinfo=from_zone)\n",
    "        onlineTime = onlineTime.astimezone(to_zone)\n",
    "        onlineTime = onlineTime.strftime(\"%Y-%m-%d %H:%M:%S\")\n",
    "        print(\"Last Modified on drive: %s\" %onlineTime)\n",
    "        onlineTime = time.mktime(time.strptime(onlineTime, \"%Y-%m-%d %H:%M:%S\"))\n",
    "        #print(\"Last Modified on drive: %s\" %onlineTime)\n",
    "        \n",
    "        if localModified > onlineTime:\n",
    "            print(\"Modification Observed\")\n",
    "            fileUpdate(dest, LocalFile, fileMetaData)\n",
    "        else:\n",
    "            print(\"File is Already Up to date\")"
   ]
  },
  {
   "cell_type": "code",
   "execution_count": 10,
   "id": "68bb9d7d",
   "metadata": {},
   "outputs": [],
   "source": [
    "def toCreateFolder(dest, fName, pId):\n",
    "    folder = drive.CreateFile({'title': fName, 'mimeType' : 'application/vnd.google-apps.folder' ,'parents':[{'id':pId}]})\n",
    "    folder.Upload()"
   ]
  },
  {
   "cell_type": "code",
   "execution_count": 14,
   "id": "00805ab3",
   "metadata": {},
   "outputs": [],
   "source": [
    "def mainImplementation(destination, folderId):\n",
    "#     print(\"Inside ------- \", destination)\n",
    "    fileMetaData = []\n",
    "    fileName = []\n",
    "    \n",
    "    request_template = \"'{x}' in parents and trashed=false\"\n",
    "    file_list = drive.ListFile({'q': request_template.format(x = folderId)}).GetList()\n",
    "    \n",
    "    for file in file_list:\n",
    "        fileMetaData.append([file['title'], file['modifiedDate'], file['id'], file['mimeType']])\n",
    "    \n",
    "    for i in fileMetaData:\n",
    "        fileName.append(i[0])\n",
    "    \n",
    "    for z in os.scandir(destination):\n",
    "        if z.is_dir():\n",
    "            print(\"Folder : %s\" %z)\n",
    "            temp1 = z.name\n",
    "            path = \"{}\\{}\".format(destination, temp1)\n",
    "            tempid = ''\n",
    "            for a in file_list:\n",
    "                if a['title'] == temp1:\n",
    "                    tempid = a['id']\n",
    "\n",
    "            if tempid == '':\n",
    "                toCreateFolder(destination, temp1, folderId)\n",
    "            else:\n",
    "                mainImplementation(path,tempid)\n",
    "            \n",
    "        else:\n",
    "            print(\"File : %s\" %z)\n",
    "            toUploadFile(destination, z.name, fileName, fileMetaData, folderId)\n",
    "        print('---------------------------------------')"
   ]
  },
  {
   "cell_type": "code",
   "execution_count": 15,
   "id": "996cad5d",
   "metadata": {
    "scrolled": true
   },
   "outputs": [],
   "source": [
    "dest = r\"F:\\THAPPAR 2020\\SEMESTER 5\\UCS531 Cloud Computing\\Lab\\SyncFolder\"\n",
    "def main():\n",
    "    print(\"File Uploading Procedure Initiated: \")\n",
    "    fileDrive = drive.ListFile({'q': \"'root' in parents and trashed=false\"}).GetList()\n",
    "    folderId = ''\n",
    "    for f in fileDrive:\n",
    "        if f['title'] == 'Sync Folder':\n",
    "#             print(f['id'])\n",
    "            folderId = f['id']\n",
    "    \n",
    "    mainImplementation(dest, folderId)\n",
    "    print('File Uploading Script Completed')"
   ]
  },
  {
   "cell_type": "code",
   "execution_count": 16,
   "id": "23e7d190",
   "metadata": {},
   "outputs": [
    {
     "name": "stdout",
     "output_type": "stream",
     "text": [
      "File Uploading Procedure Initiated: \n",
      "File : <DirEntry 'Dataset_Creation_Lab1.ipynb'>\n",
      "Dataset_Creation_Lab1.ipynb\n",
      "File already present on drive - Checking Modifications\n",
      "Last modified on Local: 2021-08-16 11:43:28\n",
      "Last Modified on drive: 2021-10-06 18:31:39\n",
      "File is Already Up to date\n",
      "---------------------------------------\n",
      "Folder : <DirEntry 'FolderIn1'>\n",
      "Folder : <DirEntry 'RecursiveFolder'>\n",
      "File : <DirEntry 'TestingTest.txt'>\n",
      "TestingTest.txt\n",
      "File already present on drive - Checking Modifications\n",
      "Last modified on Local: 2021-10-06 18:38:40\n",
      "Last Modified on drive: 2021-10-06 18:47:21\n",
      "File is Already Up to date\n",
      "---------------------------------------\n",
      "---------------------------------------\n",
      "File : <DirEntry 'TestingFile.txt'>\n",
      "TestingFile.txt\n",
      "File already present on drive - Checking Modifications\n",
      "Last modified on Local: 2021-10-06 19:01:13\n",
      "Last Modified on drive: 2021-10-06 19:01:31\n",
      "File is Already Up to date\n",
      "---------------------------------------\n",
      "---------------------------------------\n",
      "File : <DirEntry 'PydriveTestingFile.txt'>\n",
      "PydriveTestingFile.txt\n",
      "File already present on drive - Checking Modifications\n",
      "Last modified on Local: 2021-10-06 19:01:09\n",
      "Last Modified on drive: 2021-10-06 19:01:36\n",
      "File is Already Up to date\n",
      "---------------------------------------\n",
      "File Uploading Script Completed\n"
     ]
    }
   ],
   "source": [
    "main()"
   ]
  },
  {
   "cell_type": "code",
   "execution_count": null,
   "id": "dd5df5cd",
   "metadata": {},
   "outputs": [],
   "source": []
  }
 ],
 "metadata": {
  "kernelspec": {
   "display_name": "Python 3 (ipykernel)",
   "language": "python",
   "name": "python3"
  },
  "language_info": {
   "codemirror_mode": {
    "name": "ipython",
    "version": 3
   },
   "file_extension": ".py",
   "mimetype": "text/x-python",
   "name": "python",
   "nbconvert_exporter": "python",
   "pygments_lexer": "ipython3",
   "version": "3.8.11"
  }
 },
 "nbformat": 4,
 "nbformat_minor": 5
}
