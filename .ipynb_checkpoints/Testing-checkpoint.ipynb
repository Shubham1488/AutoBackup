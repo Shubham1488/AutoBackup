{
 "cells": [
  {
   "cell_type": "code",
   "execution_count": 12,
   "id": "105726f5",
   "metadata": {},
   "outputs": [],
   "source": [
    "disc = [1232,  1231]"
   ]
  },
  {
   "cell_type": "code",
   "execution_count": 13,
   "id": "21f8fc27",
   "metadata": {},
   "outputs": [],
   "source": [
    "mylist = []"
   ]
  },
  {
   "cell_type": "code",
   "execution_count": 18,
   "id": "ee4b3eed",
   "metadata": {},
   "outputs": [],
   "source": [
    "mylist.append(disc)"
   ]
  },
  {
   "cell_type": "code",
   "execution_count": 19,
   "id": "bb1dc5b7",
   "metadata": {},
   "outputs": [
    {
     "data": {
      "text/plain": [
       "[[1232, 1231], [1232, 1231]]"
      ]
     },
     "execution_count": 19,
     "metadata": {},
     "output_type": "execute_result"
    }
   ],
   "source": [
    "mylist"
   ]
  },
  {
   "cell_type": "code",
   "execution_count": null,
   "id": "dd9ce39b",
   "metadata": {},
   "outputs": [],
   "source": []
  },
  {
   "cell_type": "code",
   "execution_count": null,
   "id": "2d53496b",
   "metadata": {},
   "outputs": [],
   "source": []
  },
  {
   "cell_type": "code",
   "execution_count": 1,
   "id": "029ef740",
   "metadata": {},
   "outputs": [],
   "source": [
    "import logging"
   ]
  },
  {
   "cell_type": "code",
   "execution_count": 2,
   "id": "cfaad17a",
   "metadata": {},
   "outputs": [],
   "source": [
    "logging.basicConfig(filename='history.log', format='%(asctime)s :: %(message)s' , datefmt='%m/%d/%Y %I:%M:%S %p')"
   ]
  },
  {
   "cell_type": "code",
   "execution_count": 3,
   "id": "9cc972f3",
   "metadata": {},
   "outputs": [],
   "source": [
    "logger=logging.getLogger()"
   ]
  },
  {
   "cell_type": "code",
   "execution_count": 4,
   "id": "4e842643",
   "metadata": {},
   "outputs": [],
   "source": [
    "logger.setLevel(logging.DEBUG)"
   ]
  },
  {
   "cell_type": "code",
   "execution_count": 5,
   "id": "a64d37c2",
   "metadata": {},
   "outputs": [],
   "source": [
    "logger.debug(\"Harmless debug Message\")\n",
    "logger.info(\"Just an information\")\n",
    "logger.warning(\"Its a Warning\")\n",
    "logger.error(\"Did you try to divide by zero\")\n",
    "logger.critical(\"Internet is down\")"
   ]
  },
  {
   "cell_type": "code",
   "execution_count": null,
   "id": "518a2cf1",
   "metadata": {},
   "outputs": [],
   "source": []
  }
 ],
 "metadata": {
  "kernelspec": {
   "display_name": "Python 3 (ipykernel)",
   "language": "python",
   "name": "python3"
  },
  "language_info": {
   "codemirror_mode": {
    "name": "ipython",
    "version": 3
   },
   "file_extension": ".py",
   "mimetype": "text/x-python",
   "name": "python",
   "nbconvert_exporter": "python",
   "pygments_lexer": "ipython3",
   "version": "3.8.11"
  }
 },
 "nbformat": 4,
 "nbformat_minor": 5
}
